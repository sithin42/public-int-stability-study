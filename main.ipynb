{
 "cells": [
  {
   "cell_type": "code",
   "execution_count": 10,
   "metadata": {},
   "outputs": [
    {
     "name": "stderr",
     "output_type": "stream",
     "text": [
      "c:\\users\\sithi\\research\\myenv2\\lib\\site-packages\\outdated\\utils.py:18: OutdatedPackageWarning: The package outdated is out of date. Your version is 0.2.1, the latest is 0.2.2.\n",
      "Set the environment variable OUTDATED_IGNORE=1 to disable these warnings.\n",
      "  **kwargs\n"
     ]
    }
   ],
   "source": [
    "import os\n",
    "\n",
    "import pandas as pd\n",
    "\n",
    "import pingouin as pg\n",
    "\n",
    "import numpy as np\n",
    "\n",
    "from tqdm import tqdm\n",
    "\n",
    "from concurrent.futures import ThreadPoolExecutor\n",
    "\n",
    "NUM_WORKERS = 2"
   ]
  },
  {
   "cell_type": "markdown",
   "metadata": {},
   "source": [
    "# Utilities"
   ]
  },
  {
   "cell_type": "code",
   "execution_count": null,
   "metadata": {},
   "outputs": [],
   "source": [
    "def get_columns(df, masks):\n",
    "    \n",
    "    out_columns = []\n",
    "\n",
    "    for column in df.columns.to_list():\n",
    "\n",
    "        for mask in masks:\n",
    "\n",
    "            flag = False\n",
    "\n",
    "            if mask in column:\n",
    "                flag = True\n",
    "                break;\n",
    "        if not flag:\n",
    "            out_columns.append(column)\n",
    "            \n",
    "    return out_columns"
   ]
  },
  {
   "cell_type": "code",
   "execution_count": null,
   "metadata": {},
   "outputs": [],
   "source": [
    "def compute_icc(df, features):\n",
    "    \n",
    "    pbar = tqdm(range(len(features)*len(SOI)), desc=f\"Computing ICC\", position=0)\n",
    "\n",
    "    icc_df = {}\n",
    "\n",
    "    for sequence in SOI:\n",
    "\n",
    "        _df = df[df.sequence==sequence][features+[\"id\",\"judge\"]]\n",
    "\n",
    "        for feat in features:\n",
    "\n",
    "            filter_name, feat_family_name, feat_name = feat.split(\"_\")\n",
    "\n",
    "            icc = pg.intraclass_corr(data=_df, targets='id',raters='judge', ratings=feat)\n",
    "\n",
    "            icc_row = icc[icc.Type==\"ICC1\"]#ICC(1,1)\n",
    "\n",
    "            icc_val = np.round(icc_row.ICC.item(),2)\n",
    "            ci_down = np.round(icc_row[\"CI95%\"].item()[0],2)\n",
    "            ci_up = np.round(icc_row[\"CI95%\"].item()[1],2)\n",
    "\n",
    "\n",
    "            icc_df.setdefault(\"sequence\",[]).append(sequence)\n",
    "            icc_df.setdefault(\"filter\",[]).append(filter_name)\n",
    "            icc_df.setdefault(\"feat_family\",[]).append(feat_family_name)\n",
    "            icc_df.setdefault(\"feature\",[]).append(feat_name)\n",
    "            icc_df.setdefault(\"icc_value\",[]).append(icc_val if icc_val>0 else 0)\n",
    "            icc_df.setdefault(\"ci_down\",[]).append(ci_down if ci_down>0 else 0)\n",
    "            icc_df.setdefault(\"ci_up\",[]).append(ci_up if ci_up>0 else 0)\n",
    "            \n",
    "            pbar.update()\n",
    "\n",
    "\n",
    "    icc_df = pd.DataFrame.from_dict(icc_df)\n",
    "    \n",
    "    return icc_df"
   ]
  },
  {
   "cell_type": "code",
   "execution_count": null,
   "metadata": {},
   "outputs": [],
   "source": [
    "def parse(aug_type):\n",
    "    \n",
    "    global ICC_DFS\n",
    "    \n",
    "    print(f\"Analyzing stability for {aug_type}\")\n",
    "    \n",
    "    df = pd.read_csv(os.path.join(FEAT_DIR,aug_type+\"_\"+FNAME_AFFIX))\n",
    "    feats = get_columns(df, MASK_FEATS)\n",
    "    \n",
    "    ICC_DFS[aug_type] = compute_icc(df, feats)"
   ]
  },
  {
   "cell_type": "markdown",
   "metadata": {},
   "source": [
    "# 1. Internal Population"
   ]
  },
  {
   "cell_type": "code",
   "execution_count": null,
   "metadata": {},
   "outputs": [],
   "source": [
    "FEAT_DIR = r\"C:\\Users\\sithi\\Research\\INT-Projects\\stability\\radiomicsFeatures\"\n",
    "OUT_DIR = r\"C:\\Users\\sithi\\Research\\INT-Projects\\stability\\radiomicsFeaturesICC\""
   ]
  },
  {
   "cell_type": "code",
   "execution_count": null,
   "metadata": {},
   "outputs": [],
   "source": [
    "MASK_FEATS = [\"diagnostics\",\"Unnamed\",'id','judge','sequence', 'dice']\n",
    "SOI = [\"t2w\",\"adc\",\"sub_win\",\"sub_wout\"]\n",
    "AUG_TYPES = [\"in_plane_random\",\"in_plane_systematic\", \"out_plane\", \"inout_plane_random\",\"inout_plane_systematic\"]\n",
    "FNAME_AFFIX = \"internal.csv\""
   ]
  },
  {
   "cell_type": "code",
   "execution_count": null,
   "metadata": {},
   "outputs": [],
   "source": [
    "ICC_DFS = {}\n",
    "\n",
    "with ThreadPoolExecutor(max_workers=NUM_WORKERS) as e:e.map(parse, AUG_TYPES)\n",
    "    \n",
    "for aug_type in AUG_TYPES:\n",
    "    icc_df = ICC_DFS[aug_type]\n",
    "    icc_df.to_csv(os.path.join(OUT_DIR,f\"{aug_type}_{FNAME_AFFIX}\"))"
   ]
  },
  {
   "cell_type": "code",
   "execution_count": null,
   "metadata": {},
   "outputs": [],
   "source": [
    "# ICC_DFS = {}\n",
    "\n",
    "# aug_type = \"in_plane_random\"\n",
    "\n",
    "# parse(aug_type)\n",
    "\n",
    "# icc_df = ICC_DFS[aug_type]\n",
    "# icc_df.to_csv(os.path.join(OUT_DIR,f\"{aug_type}_{FNAME_AFFIX}\"))\n"
   ]
  },
  {
   "cell_type": "markdown",
   "metadata": {},
   "source": [
    "# 2. External Population"
   ]
  },
  {
   "cell_type": "code",
   "execution_count": 3,
   "metadata": {},
   "outputs": [],
   "source": [
    "FEAT_DIR = r\"./radiomicsFeatures\"\n",
    "OUT_DIR = r\"./radiomicsFeaturesICC\""
   ]
  },
  {
   "cell_type": "code",
   "execution_count": 4,
   "metadata": {},
   "outputs": [],
   "source": [
    "MASK_FEATS = [\"diagnostics\",\"Unnamed\",'id','judge','sequence', 'dice']\n",
    "SOI = [\"t2w\",\"adc\",\"sub\"]\n",
    "AUG_TYPES = [\"in_plane_random\",\"in_plane_systematic\", \"out_plane\", \"inout_plane_random\",\"inout_plane_systematic\"]\n",
    "FNAME_AFFIX = \"external.csv\""
   ]
  },
  {
   "cell_type": "code",
   "execution_count": null,
   "metadata": {},
   "outputs": [],
   "source": [
    "ICC_DFS = {}\n",
    "\n",
    "with ThreadPoolExecutor(max_workers=NUM_WORKERS) as e:e.map(parse, AUG_TYPES)\n",
    "    \n",
    "for aug_type in AUG_TYPES:\n",
    "    icc_df = ICC_DFS[aug_type]\n",
    "    icc_df.to_csv(os.path.join(OUT_DIR,f\"{aug_type}_{FNAME_AFFIX}\"))"
   ]
  },
  {
   "cell_type": "markdown",
   "metadata": {},
   "source": [
    "# Heat Map Generation of UnFiltered Features & Filtered Features"
   ]
  },
  {
   "cell_type": "code",
   "execution_count": null,
   "metadata": {},
   "outputs": [],
   "source": [
    "import matplotlib.pyplot as plt"
   ]
  },
  {
   "cell_type": "code",
   "execution_count": null,
   "metadata": {
    "scrolled": false
   },
   "outputs": [],
   "source": [
    "heat_maps = {}\n",
    "\n",
    "for sequence in SOI:\n",
    "    \n",
    "    heat_maps[sequence] = {}\n",
    "    \n",
    "    sequence_icc_df = icc_df[icc_df.sequence==sequence]\n",
    "    \n",
    "    _df = sequence_icc_df[[\"feat_family\",\"filter\",\"feature\",\"ci_down\"]]\n",
    "    \n",
    "    subplots = []\n",
    "    \n",
    "\n",
    "    \n",
    "    cmap = sns.light_palette(\"seagreen\", as_cmap=True)#sns.color_palette(\"Blues\", as_cmap=True)#sns.light_palette(\"seagreen\", as_cmap=True)#sns.color_palette(\"RdBu_r\", as_cmap=True)\n",
    "    #cmap = sns.cm.rocket_r#sns.light_palette(\"seagreen\", as_cmap=True)\n",
    "    #sns.heatmap(heatmap_arr, cmap=cmap,linewidths=2)\n",
    "    \n",
    "    for feat_family in _df.feat_family.unique():\n",
    "   \n",
    "        \n",
    "        df1 = _df[_df.feat_family==feat_family]\n",
    "        arr = df1.sort_values('feature').ci_down.to_numpy()\n",
    "        stable_feats = arr>=0.9\n",
    "   \n",
    "        stable_feats[arr==np.nan] = np.nan\n",
    "        \n",
    "        m = int(np.ceil(np.sqrt(len(arr))))\n",
    "\n",
    "        plt.figure(figsize=(m,m))\n",
    "        square_arr = np.pad(arr, (0,(m*m)-len(arr)), mode='constant',constant_values=np.nan).reshape(m,m)\n",
    "        \n",
    "        heat_maps[sequence][feat_family] = {}\n",
    "        \n",
    "        stable_feats = (square_arr>=0.9)\n",
    "        \n",
    "        \n",
    "        sns.heatmap(square_arr, vmin=0, vmax=1,linewidths=2, mask =~stable_feats,square=True, cmap=cmap)\n",
    "        sns.heatmap(square_arr, vmin=0, vmax=0.9, linewidths=2, mask = stable_feats, square=True, cmap = sns.dark_palette(\"gray\",as_cmap=True),cbar=False)\n",
    "        \n",
    "        #sns.heatmap(np.isnan(square_arr), vmin=0, vmax=1, linewidths=2, mask = ~np.isnan(square_arr), square=True, cmap=sns.dark_palette(\"gray\",as_cmap=True))\n",
    "        #sns.heatmap(np.isnan(square_arr), vmin=0, vmax=1, linewidths=2, mask = !np.isnan(square_arr), square=True, cmap=)\n",
    "\n",
    "        plt.show()\n",
    "        \n",
    "    \n",
    "    #filtered_df = sequence_icc_df[sequence_icc_df[\"filter\"]!=\"original\"]\n",
    "    \n",
    "    break;"
   ]
  },
  {
   "cell_type": "code",
   "execution_count": null,
   "metadata": {},
   "outputs": [],
   "source": [
    "sns.bar"
   ]
  },
  {
   "cell_type": "code",
   "execution_count": null,
   "metadata": {},
   "outputs": [],
   "source": []
  },
  {
   "cell_type": "code",
   "execution_count": null,
   "metadata": {},
   "outputs": [],
   "source": []
  },
  {
   "cell_type": "code",
   "execution_count": null,
   "metadata": {},
   "outputs": [],
   "source": [
    "Impact of HeatMap Strategies"
   ]
  },
  {
   "cell_type": "code",
   "execution_count": null,
   "metadata": {},
   "outputs": [],
   "source": [
    "for sequence in SOI:\n",
    "    \n",
    "    sequence_icc_df = icc_df[icc_df.sequence==sequence]\n",
    "    \n",
    "    _df = sequence_icc_df[sequence_icc_df[\"filter\"]==\"original\"][[\"feat_family\",\"feature\",\"ci_down\"]]\n",
    "    \n",
    "    subplots = []\n",
    "    \n",
    "    #cmap = sns.color_palette(\"RdBu_r\", as_cmap=True)\n",
    "    #cmap = sns.cm.rocket_r#sns.light_palette(\"seagreen\", as_cmap=True)\n",
    "    #sns.heatmap(heatmap_arr, cmap=cmap,linewidths=2)\n",
    "    \n",
    "    for feat_family in _df.feat_family.unique():\n",
    "        \n",
    "        df1 = _df[_df.feat_family==feat_family]\n",
    "        arr = df1.sort_values('feature').ci_down.to_numpy()\n",
    "        \n",
    "        m = int(np.ceil(np.sqrt(len(arr))))\n",
    "\n",
    "        plt.figure(figsize=(m,m))\n",
    "        square_arr = np.pad(arr, (0,(m*m)-len(arr)), mode='constant',constant_values=np.nan).reshape(m,m)\n",
    "        sns.heatmap(square_arr, vmin=0, vmax=1, linewidths=2, mask = np.isnan(square_arr),square=True)\n",
    "        plt.show()\n",
    "        \n",
    "    \n",
    "    #filtered_df = sequence_icc_df[sequence_icc_df[\"filter\"]!=\"original\"]\n",
    "    \n",
    "    break;"
   ]
  },
  {
   "cell_type": "code",
   "execution_count": null,
   "metadata": {},
   "outputs": [],
   "source": []
  },
  {
   "cell_type": "code",
   "execution_count": null,
   "metadata": {},
   "outputs": [],
   "source": [
    "display(subplots[0])"
   ]
  },
  {
   "cell_type": "code",
   "execution_count": null,
   "metadata": {},
   "outputs": [],
   "source": [
    "heatmap_arr[heatmap_arr==0] = np.nan"
   ]
  },
  {
   "cell_type": "code",
   "execution_count": null,
   "metadata": {},
   "outputs": [],
   "source": [
    "#sns.color_palette(\"rocket\")\n",
    "cmap = sns.color_palette(\"RdBu_r\", as_cmap=True)\n",
    "sns.heatmap(heatmap_arr, cmap=cmap,linewidths=2, mask = np.isnan(heatmap_arr))\n"
   ]
  },
  {
   "cell_type": "code",
   "execution_count": null,
   "metadata": {},
   "outputs": [],
   "source": [
    "4*4 for shape\n",
    "\n",
    "5*5 for firstorder\n",
    "5*5 for glcm\n",
    "4x4 for glrlm\n",
    "4x4 for glszm\n",
    "3x3 for ngtdm\n",
    "4x4 for gldm"
   ]
  },
  {
   "cell_type": "code",
   "execution_count": null,
   "metadata": {},
   "outputs": [],
   "source": [
    "unfiltered_df"
   ]
  },
  {
   "cell_type": "code",
   "execution_count": null,
   "metadata": {},
   "outputs": [],
   "source": [
    "5*5"
   ]
  },
  {
   "cell_type": "code",
   "execution_count": null,
   "metadata": {},
   "outputs": [],
   "source": [
    "len(unfiltered_df)"
   ]
  },
  {
   "cell_type": "code",
   "execution_count": null,
   "metadata": {},
   "outputs": [],
   "source": [
    "sns.heatmap(unfiltered_df)"
   ]
  },
  {
   "cell_type": "code",
   "execution_count": null,
   "metadata": {},
   "outputs": [],
   "source": [
    "sns.clustermap(df_heatmap)"
   ]
  },
  {
   "cell_type": "code",
   "execution_count": null,
   "metadata": {},
   "outputs": [],
   "source": []
  },
  {
   "cell_type": "code",
   "execution_count": null,
   "metadata": {},
   "outputs": [],
   "source": []
  },
  {
   "cell_type": "code",
   "execution_count": null,
   "metadata": {},
   "outputs": [],
   "source": []
  },
  {
   "cell_type": "code",
   "execution_count": null,
   "metadata": {},
   "outputs": [],
   "source": [
    "net = Network(clustergrammer_widget)"
   ]
  },
  {
   "cell_type": "code",
   "execution_count": null,
   "metadata": {},
   "outputs": [],
   "source": [
    "net.load_df(unfiltered_df)"
   ]
  },
  {
   "cell_type": "code",
   "execution_count": null,
   "metadata": {},
   "outputs": [],
   "source": [
    "net.make_clust()"
   ]
  },
  {
   "cell_type": "code",
   "execution_count": null,
   "metadata": {},
   "outputs": [],
   "source": [
    "net.widget()"
   ]
  },
  {
   "cell_type": "code",
   "execution_count": null,
   "metadata": {},
   "outputs": [],
   "source": []
  },
  {
   "cell_type": "code",
   "execution_count": null,
   "metadata": {},
   "outputs": [],
   "source": [
    "net = Network(CGM2)"
   ]
  },
  {
   "cell_type": "code",
   "execution_count": null,
   "metadata": {},
   "outputs": [],
   "source": [
    "net.load_df(unfiltered_df)"
   ]
  },
  {
   "cell_type": "code",
   "execution_count": null,
   "metadata": {},
   "outputs": [],
   "source": []
  },
  {
   "cell_type": "code",
   "execution_count": null,
   "metadata": {},
   "outputs": [],
   "source": []
  },
  {
   "cell_type": "code",
   "execution_count": null,
   "metadata": {},
   "outputs": [],
   "source": []
  },
  {
   "cell_type": "code",
   "execution_count": null,
   "metadata": {},
   "outputs": [],
   "source": [
    "_df = pd.DataFrame(unfiltered_df.ci_down, index=unfiltered_df.feature, columns=unfiltered_df.feat_family)"
   ]
  },
  {
   "cell_type": "code",
   "execution_count": null,
   "metadata": {},
   "outputs": [],
   "source": [
    "sns.heatmap(_df)"
   ]
  }
 ],
 "metadata": {
  "kernelspec": {
   "display_name": "Python 3",
   "language": "python",
   "name": "python3"
  },
  "language_info": {
   "codemirror_mode": {
    "name": "ipython",
    "version": 3
   },
   "file_extension": ".py",
   "mimetype": "text/x-python",
   "name": "python",
   "nbconvert_exporter": "python",
   "pygments_lexer": "ipython3",
   "version": "3.7.6"
  }
 },
 "nbformat": 4,
 "nbformat_minor": 4
}
