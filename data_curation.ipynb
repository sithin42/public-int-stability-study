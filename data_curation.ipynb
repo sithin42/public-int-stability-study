{
 "cells": [
  {
   "cell_type": "markdown",
   "metadata": {},
   "source": [
    "# Data Curation"
   ]
  },
  {
   "cell_type": "code",
   "execution_count": 8,
   "metadata": {},
   "outputs": [],
   "source": [
    "import os\n",
    "\n",
    "import numpy as np\n",
    "\n",
    "import SimpleITK as sitk\n",
    "import pandas as pd\n",
    "\n",
    "from concurrent.futures import ThreadPoolExecutor\n",
    "\n",
    "from tqdm import tqdm\n",
    "import seaborn as sns\n",
    "import matplotlib.pyplot as plt\n",
    "\n",
    "from ipywidgets import interact, widgets"
   ]
  },
  {
   "cell_type": "markdown",
   "metadata": {},
   "source": [
    "# 1. Internal Population"
   ]
  },
  {
   "cell_type": "markdown",
   "metadata": {},
   "source": [
    "#### Organizing Dataset"
   ]
  },
  {
   "cell_type": "code",
   "execution_count": null,
   "metadata": {},
   "outputs": [],
   "source": [
    "DATA_DIR = r\"C:\\Users\\sithi\\Research\\PhD Projects\\prostate_analysis\\data\\processed\\prostata\"\n",
    "OUT_DIR = r\"C:\\Users\\sithi\\Research\\dataset\\curated\\INT_Prostate\""
   ]
  },
  {
   "cell_type": "code",
   "execution_count": null,
   "metadata": {},
   "outputs": [],
   "source": [
    "SOI = [\"t2w\",\"adc\",\"dce\"]"
   ]
  },
  {
   "cell_type": "code",
   "execution_count": null,
   "metadata": {},
   "outputs": [],
   "source": [
    "PIDS = os.listdir(os.path.join(DATA_DIR,SOI[0]))"
   ]
  },
  {
   "cell_type": "code",
   "execution_count": null,
   "metadata": {},
   "outputs": [],
   "source": [
    "FILE_NAMES = {\n",
    "    \n",
    "    \"t2w\":{\"img\":\"image\",\"mask\":\"mask\"},\n",
    "    \"adc\":{\"img\":\"adc\", \"mask\":\"adc_mask\"},\n",
    "    \"dce\":{\"imgs\":[\"sub_win\",\"sub_wout\"], \"mask\":\"sub_mask\"}\n",
    "}"
   ]
  },
  {
   "cell_type": "code",
   "execution_count": null,
   "metadata": {},
   "outputs": [],
   "source": [
    "NUM_WORKERS = 2"
   ]
  },
  {
   "cell_type": "code",
   "execution_count": null,
   "metadata": {},
   "outputs": [],
   "source": [
    "def parse(pid):\n",
    "    \n",
    "    for sequence in SOI:\n",
    "        \n",
    "        data_dir = os.path.join(DATA_DIR, sequence, pid)\n",
    "        data_dir = os.path.join(data_dir, sorted(os.listdir(data_dir))[0])\n",
    "            \n",
    "        if sequence!=\"dce\":\n",
    "            \n",
    "            out_dir = os.path.join(OUT_DIR, pid, sequence)\n",
    "            if not os.path.exists(out_dir):\n",
    "                os.makedirs(out_dir)\n",
    "        \n",
    "            fname = FILE_NAMES[sequence][\"img\"]\n",
    "            sitk_img = sitk.ReadImage(os.path.join(data_dir,f\"{fname}.nrrd\"))\n",
    "            \n",
    "            if sequence==\"adc\":\n",
    "                \n",
    "                img_origin, img_spacing, img_direction = sitk_img.GetOrigin(), sitk_img.GetSpacing(), sitk_img.GetDirection()\n",
    "                img_arr = sitk.GetArrayFromImage(sitk_img)\n",
    "                img_arr *= 10**6\n",
    "                sitk_img = sitk.GetImageFromArray(np.rint(img_arr).astype(np.int32))\n",
    "                sitk_img.SetOrigin(img_origin)\n",
    "                sitk_img.SetSpacing(img_spacing)\n",
    "                sitk_img.SetDirection(img_direction)\n",
    "                \n",
    "                \n",
    "            \n",
    "            sitk.WriteImage(sitk_img, os.path.join(out_dir, \"img.nii.gz\"))\n",
    "\n",
    "            msk_name = FILE_NAMES[sequence][\"mask\"]\n",
    "            sitk_mask = sitk.ReadImage(os.path.join(data_dir,f\"{msk_name}.nrrd\"))\n",
    "            sitk.WriteImage(sitk_mask, os.path.join(out_dir, \"mask.nii.gz\"))\n",
    "            \n",
    "        else:\n",
    "            \n",
    "            \n",
    "            for fname in FILE_NAMES[sequence][\"imgs\"]:\n",
    "                \n",
    "                out_dir = os.path.join(OUT_DIR, pid, fname)\n",
    "                if not os.path.exists(out_dir):\n",
    "                    os.makedirs(out_dir)\n",
    "                \n",
    "                sitk_img = sitk.ReadImage(os.path.join(data_dir,f\"{fname}.nrrd\"))\n",
    "                sitk.WriteImage(sitk_img, os.path.join(out_dir, \"img.nii.gz\"))\n",
    "                \n",
    "                msk_name = FILE_NAMES[sequence][\"mask\"]\n",
    "                sitk_mask = sitk.ReadImage(os.path.join(data_dir, f\"{msk_name}.nrrd\"))\n",
    "                sitk.WriteImage(sitk_mask, os.path.join(out_dir, \"mask.nii.gz\"))\n",
    "                \n",
    "            \n",
    "    pbar.update()\n",
    "    "
   ]
  },
  {
   "cell_type": "code",
   "execution_count": null,
   "metadata": {},
   "outputs": [],
   "source": [
    "pbar = tqdm(PIDS,desc=\"Processing records\",position=0)\n",
    "with ThreadPoolExecutor(max_workers=NUM_WORKERS) as e:e.map(parse, PIDS)"
   ]
  },
  {
   "cell_type": "markdown",
   "metadata": {},
   "source": [
    "#### Dataset Distribution"
   ]
  },
  {
   "cell_type": "code",
   "execution_count": null,
   "metadata": {},
   "outputs": [],
   "source": [
    "DATA_DIR = r\"C:\\Users\\sithi\\Research\\dataset\\curated\\INT_Prostate\"\n",
    "\n",
    "SOI = [\"t2w\",\"adc\",\"sub_win\",\"sub_wout\"]"
   ]
  },
  {
   "cell_type": "code",
   "execution_count": null,
   "metadata": {},
   "outputs": [],
   "source": [
    "sample_pids = os.listdir(DATA_DIR)[:10]"
   ]
  },
  {
   "cell_type": "code",
   "execution_count": null,
   "metadata": {},
   "outputs": [],
   "source": [
    "for sequence in SOI:\n",
    "    \n",
    "    print(f\"****************For {sequence}*************\")\n",
    "    vmins = []\n",
    "    vmaxs = []\n",
    "    vmeans = []\n",
    "    vstds = []\n",
    "    \n",
    "    for pid in sample_pids:\n",
    "        \n",
    "        img = sitk.ReadImage(os.path.join(DATA_DIR, pid, sequence, \"img.nii.gz\"))\n",
    "        img_arr = sitk.GetArrayFromImage(img).ravel()\n",
    "        \n",
    "        plt.hist(img_arr,bins=100)\n",
    "        plt.show()\n",
    "        \n",
    "        print(f\"Min:{img_arr.min()}, Max:{img_arr.max()}, Mean:{img_arr.mean()}, Std:{img_arr.std()}\")\n",
    "        \n",
    "        vmins.append(img_arr.min())\n",
    "        vmaxs.append(img_arr.max())\n",
    "        vmeans.append(img_arr.mean())\n",
    "        vstds.append(img_arr.std())\n",
    "        \n",
    "    \n",
    "    df = {\"vmins\":vmins, \"vmaxs\":vmaxs, \"vmeans\":vmeans, \"vstds\":vstds}\n",
    "    df = pd.DataFrame.from_dict(df)\n",
    "    \n",
    "    display(df)\n",
    "        \n",
    "        \n",
    "        \n",
    "  \n",
    "    "
   ]
  },
  {
   "cell_type": "markdown",
   "metadata": {},
   "source": [
    "#### Voxel Spacing Distribution"
   ]
  },
  {
   "cell_type": "code",
   "execution_count": 15,
   "metadata": {},
   "outputs": [],
   "source": [
    "DATA_DIR = r\"C:\\Users\\sithi\\Research\\dataset\\curated\\INT_Prostate\""
   ]
  },
  {
   "cell_type": "code",
   "execution_count": 16,
   "metadata": {},
   "outputs": [],
   "source": [
    "pids = os.listdir(DATA_DIR)"
   ]
  },
  {
   "cell_type": "code",
   "execution_count": 17,
   "metadata": {},
   "outputs": [],
   "source": [
    "df_int = {\"t2w\":{\"dw\":[],\"dh\":[],\"dz\":[]},\"adc\":{\"dw\":[],\"dh\":[],\"dz\":[]},\"sub_win\":{\"dw\":[],\"dh\":[],\"dz\":[]},\"sub_wout\":{\"dw\":[],\"dh\":[],\"dz\":[]}}"
   ]
  },
  {
   "cell_type": "code",
   "execution_count": 18,
   "metadata": {},
   "outputs": [
    {
     "name": "stderr",
     "output_type": "stream",
     "text": [
      "processing for t2w: 100%|████████████████████████████████████████████████████████████| 100/100 [00:11<00:00,  8.66it/s]\n",
      "processing for adc: 100%|████████████████████████████████████████████████████████████| 100/100 [00:01<00:00, 70.90it/s]\n",
      "processing for sub_win: 100%|████████████████████████████████████████████████████████| 100/100 [00:01<00:00, 52.07it/s]\n",
      "processing for sub_wout: 100%|███████████████████████████████████████████████████████| 100/100 [00:02<00:00, 48.18it/s]\n"
     ]
    }
   ],
   "source": [
    "for sequence in df_int:\n",
    "    \n",
    "    for pid in tqdm(pids, desc=f\"processing for {sequence}\", position=0):\n",
    "        \n",
    "        img = sitk.ReadImage(os.path.join(DATA_DIR,pid,sequence,\"img.nii.gz\"))\n",
    "        \n",
    "        dw, dh, dz = img.GetSpacing()\n",
    "        \n",
    "        df_int[sequence][\"dw\"] += [dw]\n",
    "        df_int[sequence][\"dh\"] += [dh]\n",
    "        df_int[sequence][\"dz\"] += [dz]\n",
    "        \n",
    "        "
   ]
  },
  {
   "cell_type": "code",
   "execution_count": 19,
   "metadata": {},
   "outputs": [
    {
     "name": "stdout",
     "output_type": "stream",
     "text": [
      "Median spacing for t2w is (0.3, 0.3, 3.3)\n",
      "Median spacing for adc is (1.25, 1.25, 3.3)\n",
      "Median spacing for sub_win is (1.14, 1.14, 1.5)\n",
      "Median spacing for sub_wout is (1.14, 1.14, 1.5)\n"
     ]
    }
   ],
   "source": [
    "for sequence in df_int:\n",
    "    \n",
    "    df = pd.DataFrame.from_dict(df_int[sequence])\n",
    "\n",
    "    median_spacing = df.dw.median().round(2),df.dh.median().round(2),df.dz.median().round(2)\n",
    "    \n",
    "    print(f\"Median spacing for {sequence} is {median_spacing}\")"
   ]
  },
  {
   "cell_type": "markdown",
   "metadata": {},
   "source": [
    "#### Computing Global Mean and Std for Z-Score Computation for ADC"
   ]
  },
  {
   "cell_type": "code",
   "execution_count": 9,
   "metadata": {},
   "outputs": [],
   "source": [
    "DATA_DIR = r\"C:\\Users\\sithi\\Research\\dataset\\curated\\INT_Prostate\""
   ]
  },
  {
   "cell_type": "code",
   "execution_count": 3,
   "metadata": {},
   "outputs": [],
   "source": [
    "pids = os.listdir(DATA_DIR)"
   ]
  },
  {
   "cell_type": "code",
   "execution_count": 174,
   "metadata": {},
   "outputs": [
    {
     "name": "stderr",
     "output_type": "stream",
     "text": [
      "Parsing the range of adc maps: 100%|█████████████████████████████████████████████████| 100/100 [00:02<00:00, 48.30it/s]"
     ]
    },
    {
     "name": "stdout",
     "output_type": "stream",
     "text": [
      "ADC mean = 1159.0\n",
      "ADC std = 270.0\n"
     ]
    },
    {
     "name": "stderr",
     "output_type": "stream",
     "text": [
      "\n"
     ]
    }
   ],
   "source": [
    "adc_roi_values = []\n",
    "\n",
    "for pid in tqdm(pids, desc=f\"Parsing the range of adc maps\", position=0):\n",
    "    \n",
    "    img = sitk.ReadImage(os.path.join(DATA_DIR, pid, \"adc\",\"img.nii.gz\"))\n",
    "    mask = sitk.ReadImage(os.path.join(DATA_DIR,pid,\"adc\",\"mask.nii.gz\"))\n",
    "    \n",
    "    img_arr = sitk.GetArrayFromImage(img)\n",
    "    mask_arr = sitk.GetArrayFromImage(mask)\n",
    "    \n",
    "\n",
    "    adc_roi_values += [img_arr[mask_arr==1]]\n",
    "    \n",
    "\n",
    "adc_roi_values = np.concatenate(adc_roi_values)\n",
    "\n",
    "print(f\"ADC mean = {np.rint(adc_roi_values.mean())}\")\n",
    "print(f\"ADC std = {np.rint(adc_roi_values.std())}\")\n",
    "    "
   ]
  },
  {
   "cell_type": "markdown",
   "metadata": {},
   "source": [
    "# 2. External Population"
   ]
  },
  {
   "cell_type": "markdown",
   "metadata": {},
   "source": [
    "#### Organizing Dataset"
   ]
  },
  {
   "cell_type": "code",
   "execution_count": null,
   "metadata": {},
   "outputs": [],
   "source": [
    "DATA_DIR = r\"C:\\Users\\sithi\\Research\\PhD Projects\\prostate_analysis\\data\\processed\\qin_prostata\"\n",
    "OUT_DIR = r\"C:\\Users\\sithi\\Research\\dataset\\curated\\QIN_Prostate\""
   ]
  },
  {
   "cell_type": "code",
   "execution_count": null,
   "metadata": {},
   "outputs": [],
   "source": [
    "SOI = [\"t2w\",\"adc\",\"dce\"]"
   ]
  },
  {
   "cell_type": "code",
   "execution_count": null,
   "metadata": {},
   "outputs": [],
   "source": [
    "PIDS = os.listdir(os.path.join(DATA_DIR,SOI[0]))"
   ]
  },
  {
   "cell_type": "code",
   "execution_count": null,
   "metadata": {},
   "outputs": [],
   "source": [
    "NUM_WORKERS = 2"
   ]
  },
  {
   "cell_type": "code",
   "execution_count": null,
   "metadata": {},
   "outputs": [],
   "source": [
    "def parse(pid):\n",
    "    \n",
    "    for sequence in SOI:\n",
    "        \n",
    "        data_dir = os.path.join(DATA_DIR, sequence, pid)\n",
    "        data_dir = os.path.join(data_dir, sorted(os.listdir(data_dir))[0])\n",
    " \n",
    "        out_dir = os.path.join(OUT_DIR, pid, sequence if sequence!=\"dce\" else \"sub\")\n",
    "        if not os.path.exists(out_dir):\n",
    "            os.makedirs(out_dir)\n",
    "\n",
    "        sitk_img = sitk.ReadImage(os.path.join(data_dir,\"image.nrrd\"))\n",
    "        sitk.WriteImage(sitk_img, os.path.join(out_dir, \"img.nii.gz\"))\n",
    "\n",
    "        sitk_mask = sitk.ReadImage(os.path.join(data_dir,\"mask.nrrd\"))\n",
    "        sitk.WriteImage(sitk_mask, os.path.join(out_dir, \"mask.nii.gz\"))\n",
    "            \n",
    "       \n",
    "                \n",
    "            \n",
    "    pbar.update()\n",
    "    "
   ]
  },
  {
   "cell_type": "code",
   "execution_count": null,
   "metadata": {},
   "outputs": [],
   "source": [
    "pbar = tqdm(PIDS,desc=\"Processing records\",position=0)\n",
    "with ThreadPoolExecutor(max_workers=NUM_WORKERS) as e:e.map(parse, PIDS)"
   ]
  },
  {
   "cell_type": "markdown",
   "metadata": {},
   "source": [
    "#### Dataset Distribution"
   ]
  },
  {
   "cell_type": "code",
   "execution_count": null,
   "metadata": {},
   "outputs": [],
   "source": [
    "DATA_DIR = r\"C:\\Users\\sithi\\Research\\dataset\\curated\\QIN_Prostate\"\n",
    "\n",
    "SOI = [\"t2w\",\"adc\",\"sub\"]"
   ]
  },
  {
   "cell_type": "code",
   "execution_count": null,
   "metadata": {},
   "outputs": [],
   "source": [
    "sample_pids = os.listdir(DATA_DIR)[:10]"
   ]
  },
  {
   "cell_type": "code",
   "execution_count": null,
   "metadata": {
    "scrolled": true
   },
   "outputs": [],
   "source": [
    "for sequence in SOI:\n",
    "    \n",
    "    print(f\"****************For {sequence}*************\")\n",
    "    vmins = []\n",
    "    vmaxs = []\n",
    "    vmeans = []\n",
    "    vstds = []\n",
    "    \n",
    "    for pid in sample_pids:\n",
    "        \n",
    "        img = sitk.ReadImage(os.path.join(DATA_DIR, pid, sequence, \"img.nii.gz\"))\n",
    "        img_arr = sitk.GetArrayFromImage(img).ravel()\n",
    "        \n",
    "        plt.hist(img_arr,bins=100)\n",
    "        plt.show()\n",
    "        \n",
    "        print(f\"Min:{img_arr.min()}, Max:{img_arr.max()}, Mean:{img_arr.mean()}, Std:{img_arr.std()}\")\n",
    "        \n",
    "        vmins.append(img_arr.min())\n",
    "        vmaxs.append(img_arr.max())\n",
    "        vmeans.append(img_arr.mean())\n",
    "        vstds.append(img_arr.std())\n",
    "        \n",
    "    \n",
    "    df = {\"vmins\":vmins, \"vmaxs\":vmaxs, \"vmeans\":vmeans, \"vstds\":vstds}\n",
    "    df = pd.DataFrame.from_dict(df)\n",
    "    \n",
    "    display(df)\n",
    "        \n",
    "        \n",
    "        \n",
    "  \n",
    "    "
   ]
  },
  {
   "cell_type": "markdown",
   "metadata": {},
   "source": [
    "#### Voxel Spacing Distribution"
   ]
  },
  {
   "cell_type": "code",
   "execution_count": 20,
   "metadata": {},
   "outputs": [],
   "source": [
    "DATA_DIR = r\"C:\\Users\\sithi\\Research\\dataset\\curated\\QIN_Prostate\""
   ]
  },
  {
   "cell_type": "code",
   "execution_count": 21,
   "metadata": {},
   "outputs": [],
   "source": [
    "pids = os.listdir(DATA_DIR)"
   ]
  },
  {
   "cell_type": "code",
   "execution_count": 22,
   "metadata": {},
   "outputs": [],
   "source": [
    "df_ext = {\"t2w\":{\"dw\":[],\"dh\":[],\"dz\":[]},\"adc\":{\"dw\":[],\"dh\":[],\"dz\":[]},\"sub\":{\"dw\":[],\"dh\":[],\"dz\":[]}}"
   ]
  },
  {
   "cell_type": "code",
   "execution_count": 23,
   "metadata": {},
   "outputs": [
    {
     "name": "stderr",
     "output_type": "stream",
     "text": [
      "processing for t2w: 100%|██████████████████████████████████████████████████████████████| 15/15 [00:02<00:00,  6.74it/s]\n",
      "processing for adc: 100%|██████████████████████████████████████████████████████████████| 15/15 [00:00<00:00, 32.48it/s]\n",
      "processing for sub: 100%|██████████████████████████████████████████████████████████████| 15/15 [00:01<00:00, 14.31it/s]\n"
     ]
    }
   ],
   "source": [
    "for sequence in df_ext:\n",
    "    \n",
    "    for pid in tqdm(pids, desc=f\"processing for {sequence}\", position=0):\n",
    "        \n",
    "        img = sitk.ReadImage(os.path.join(DATA_DIR,pid,sequence,\"img.nii.gz\"))\n",
    "        \n",
    "        dw, dh, dz = img.GetSpacing()\n",
    "        \n",
    "        df_ext[sequence][\"dw\"] += [dw]\n",
    "        df_ext[sequence][\"dh\"] += [dh]\n",
    "        df_ext[sequence][\"dz\"] += [dz]\n",
    "        \n",
    "        "
   ]
  },
  {
   "cell_type": "code",
   "execution_count": 34,
   "metadata": {},
   "outputs": [
    {
     "name": "stdout",
     "output_type": "stream",
     "text": [
      "Median spacing for t2w is (0.27, 0.27, 3.5)\n",
      "Median spacing for adc is (0.7, 0.7, 4.0)\n",
      "Median spacing for sub is (0.55, 0.55, 2.5)\n"
     ]
    }
   ],
   "source": [
    "for sequence in df_ext:\n",
    "    \n",
    "    df = pd.DataFrame.from_dict(df_ext[sequence])\n",
    "\n",
    "    median_spacing = df.dw.median().round(2),df.dh.median().round(2),df.dz.median().round(2)\n",
    "    \n",
    "    print(f\"Median spacing for {sequence} is {median_spacing}\")"
   ]
  },
  {
   "cell_type": "code",
   "execution_count": 46,
   "metadata": {},
   "outputs": [
    {
     "name": "stderr",
     "output_type": "stream",
     "text": [
      "Parsing the range of adc maps: 100%|███████████████████████████████████████████████████| 15/15 [00:00<00:00, 47.57it/s]\n"
     ]
    }
   ],
   "source": [
    "adc_ext = {\"min\":[],\"max\":[]}\n",
    "\n",
    "for pid in tqdm(pids, desc=f\"Parsing the range of adc maps\", position=0):\n",
    "    \n",
    "    img = sitk.ReadImage(os.path.join(DATA_DIR, pid, \"adc\",\"img.nii.gz\"))\n",
    "    \n",
    "    img_arr = sitk.GetArrayFromImage(img)\n",
    "\n",
    "    \n",
    "    adc_ext[\"min\"] += [img_arr.min()]\n",
    "    adc_ext[\"max\"] += [img_arr.max()]"
   ]
  },
  {
   "cell_type": "code",
   "execution_count": 53,
   "metadata": {},
   "outputs": [],
   "source": [
    "import matplotlib.pyplot as plt"
   ]
  },
  {
   "cell_type": "code",
   "execution_count": 55,
   "metadata": {},
   "outputs": [
    {
     "data": {
      "text/plain": [
       "(array([8., 0., 0., 0., 0., 0., 0., 0., 0., 7.]),\n",
       " array([-256. , -230.4, -204.8, -179.2, -153.6, -128. , -102.4,  -76.8,\n",
       "         -51.2,  -25.6,    0. ]),\n",
       " <BarContainer object of 10 artists>)"
      ]
     },
     "execution_count": 55,
     "metadata": {},
     "output_type": "execute_result"
    },
    {
     "data": {
      "image/png": "[encoded data removed]",
      "text/plain": [
       "<Figure size 432x288 with 1 Axes>"
      ]
     },
     "metadata": {
      "needs_background": "light"
     },
     "output_type": "display_data"
    }
   ],
   "source": [
    "plt.hist(adc_ext[\"min\"])"
   ]
  },
  {
   "cell_type": "code",
   "execution_count": 62,
   "metadata": {},
   "outputs": [
    {
     "data": {
      "text/plain": [
       "(-256, 5565)"
      ]
     },
     "execution_count": 62,
     "metadata": {},
     "output_type": "execute_result"
    }
   ],
   "source": [
    "min(adc_ext[\"min\"]),max(adc_ext[\"max\"])"
   ]
  },
  {
   "cell_type": "markdown",
   "metadata": {},
   "source": [
    "##### Internal Population Median Spacing\n",
    "\n",
    "- Median spacing for t2w is (0.3, 0.3, 3.3)\n",
    "- Median spacing for adc is (1.25, 1.25, 3.3)\n",
    "- Median spacing for sub_win is (1.14, 1.14, 1.5)\n",
    "- Median spacing for sub_wout is (1.14, 1.14, 1.5)\n",
    "\n",
    "###### External Population Median Spacing\n",
    "- Median spacing for t2w is (0.27, 0.27, 3.5)\n",
    "- Median spacing for adc is (0.7, 0.7, 4.0)\n",
    "- Median spacing for sub is (0.55, 0.55, 2.5) \n",
    "\n",
    "\n",
    "##### Range of ADC Map\n",
    "\n",
    "Internal: (0, 3038)\n",
    "External: (0, 5565)"
   ]
  }
 ],
 "metadata": {
  "kernelspec": {
   "display_name": "Python 3",
   "language": "python",
   "name": "python3"
  },
  "language_info": {
   "codemirror_mode": {
    "name": "ipython",
    "version": 3
   },
   "file_extension": ".py",
   "mimetype": "text/x-python",
   "name": "python",
   "nbconvert_exporter": "python",
   "pygments_lexer": "ipython3",
   "version": "3.7.6"
  }
 },
 "nbformat": 4,
 "nbformat_minor": 4
}
