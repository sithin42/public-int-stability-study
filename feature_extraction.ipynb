{
 "cells": [
  {
   "cell_type": "code",
   "execution_count": 1,
   "metadata": {},
   "outputs": [],
   "source": [
    "import os\n",
    "import SimpleITK as sitk\n",
    "from tqdm import tqdm\n",
    "import pandas as pd\n",
    "import numpy as np\n",
    "import seaborn as sns\n",
    "from skimage import measure"
   ]
  },
  {
   "cell_type": "code",
   "execution_count": 2,
   "metadata": {},
   "outputs": [],
   "source": [
    "import radiomics\n",
    "import torchio as tio\n",
    "import torch\n",
    "\n",
    "from concurrent.futures import ThreadPoolExecutor\n",
    "\n",
    "import matplotlib.pyplot as plt\n",
    "from ipywidgets import interact, widgets\n",
    "\n",
    "NUM_WORKERS = 2"
   ]
  },
  {
   "cell_type": "code",
   "execution_count": 3,
   "metadata": {},
   "outputs": [],
   "source": [
    "PARAM_settingsFile = r\"C:\\Users\\sithi\\Research\\INT-Projects\\stability\\paramFile\\StudySettings3D_noNormalization_noResampling.yaml\"\n",
    "\n",
    "\n",
    "ADC_MEAN = 1159\n",
    "ADC_STD = 270\n",
    "\n",
    "SHIFT_MEAN = 300\n",
    "SHIFT_STD = 100\n",
    "\n",
    "OUT_SPACING = [2.0, 2.0, 2.0]"
   ]
  },
  {
   "cell_type": "code",
   "execution_count": 4,
   "metadata": {},
   "outputs": [],
   "source": [
    "IN_AUG_PARAMS = {'w_stdMM':2.7, 'h_stdMM':2.7, 'angle':5, 'ob_type':None}\n",
    "OUT_AUG_PARAMS = {'scale_a':0.6, 'scale_b':0.8, 'angle':5, 'delta_z':2}"
   ]
  },
  {
   "cell_type": "markdown",
   "metadata": {},
   "source": [
    "# Utilities"
   ]
  },
  {
   "cell_type": "code",
   "execution_count": 5,
   "metadata": {},
   "outputs": [],
   "source": [
    "def vol_dice_score(y_pred,y_true, smooth=1):\n",
    "\n",
    "    y_pred = y_pred.flatten()\n",
    "    y_true = y_true.flatten()\n",
    "\n",
    "    #wp = (1 - y_true).sum() / len(y_true)\n",
    "    #wn = y_true.sum() / len(y_true)\n",
    "\n",
    "    wp = 1\n",
    "\n",
    "\n",
    "    tp = wp * ((y_pred * y_true).sum())\n",
    "    fp = (y_pred * (1 - y_true)).sum()\n",
    "    fn = ((1 - y_pred) * y_true).sum()\n",
    "\n",
    "    return (2 * tp + smooth) / (2 * tp + fp + fn + smooth)"
   ]
  },
  {
   "cell_type": "code",
   "execution_count": 6,
   "metadata": {},
   "outputs": [],
   "source": [
    "def visualize(i):\n",
    "    \n",
    "   \n",
    "    if aug_mask_arr[i].sum()>0:\n",
    "        plt.contour(aug_mask_arr[i],colors='red')\n",
    "        \n",
    "    if org_mask_arr[i].sum()>0:\n",
    "        plt.contour(org_mask_arr[i],colors='green')\n",
    "    plt.show()\n",
    "    "
   ]
  },
  {
   "cell_type": "markdown",
   "metadata": {},
   "source": [
    "### In-Plane Augmentation"
   ]
  },
  {
   "cell_type": "code",
   "execution_count": 7,
   "metadata": {},
   "outputs": [],
   "source": [
    "class ContourInPlaneAug(object):\n",
    "    \n",
    "    def __init__(self, w_stdMM,h_stdMM, angle, ob_type=\"random\"): #w_aMM, w_bMM are the measurements in MM\n",
    "        \n",
    "        self.w_stdMM = w_stdMM\n",
    "        self.h_stdMM = h_stdMM\n",
    "        self.angle = angle\n",
    "        \n",
    "        self.ob_type = ob_type\n",
    "    \n",
    "    def __call__(self, mask):  \n",
    "        \n",
    "        try:\n",
    "     \n",
    "            origin = mask.GetOrigin()\n",
    "            spacing = mask.GetSpacing()\n",
    "            direction = mask.GetDirection()\n",
    "\n",
    "            w_spacing, h_spacing,_ = spacing\n",
    "\n",
    "            mask_arr = sitk.GetArrayFromImage(mask)\n",
    "\n",
    "            sys_type = np.random.choice([\"inc\",\"dec\"])#behavior of the annotator\n",
    "\n",
    "            out_mask = np.zeros_like(mask_arr)\n",
    "\n",
    "            z_indeces = [i for i,mask_slice in enumerate(mask_arr) if mask_slice.sum()>0]\n",
    "\n",
    "            for z in z_indeces:\n",
    "\n",
    "\n",
    "                if self.ob_type==\"random\":\n",
    "\n",
    "                    w_stdVOX = np.ceil(np.random.uniform(-self.w_stdMM,self.w_stdMM)/w_spacing)\n",
    "                    h_stdVOX = np.ceil(np.random.uniform(-self.h_stdMM,self.h_stdMM)/h_spacing)\n",
    "\n",
    "\n",
    "                elif self.ob_type==\"systematic\":\n",
    "\n",
    "                    if sys_type == \"inc\":\n",
    "                        w_stdVOX = np.ceil(np.random.uniform(0,self.w_stdMM)/w_spacing)\n",
    "                        h_stdVOX = np.ceil(np.random.uniform(0,self.h_stdMM)/h_spacing)\n",
    "                    else:\n",
    "                        w_stdVOX = np.ceil(np.random.uniform(-self.w_stdMM,0)/w_spacing)\n",
    "                        h_stdVOX = np.ceil(np.random.uniform(-self.h_stdMM,0)/h_spacing)\n",
    "\n",
    "                props = measure.regionprops(mask_arr[z])\n",
    "                w_min,h_min,w_max,h_max = props[0].bbox\n",
    "\n",
    "                dw = w_max - w_min\n",
    "                dh = h_max - h_min\n",
    "\n",
    "                aug_dw = dw + w_stdVOX \n",
    "                aug_dh = dh + h_stdVOX \n",
    "\n",
    "                factor_w  = np.round(aug_dw/dw,2)\n",
    "                factor_h = np.round(aug_dh/dh,2)\n",
    "\n",
    "                if factor_w<=0:\n",
    "                    continue;#donot execute further - no need to augment\n",
    "\n",
    "                if factor_h<=0:\n",
    "                    continue;\n",
    "\n",
    "                mask_slice = sitk.GetImageFromArray(mask_arr[z])\n",
    "\n",
    "                scales = (factor_w,factor_w,factor_h,factor_h, 1, 1)\n",
    "                degrees = (0, 0, 0, 0, -self.angle, self.angle)\n",
    "                transform = tio.RandomAffine(scales=scales,degrees=degrees,image_interpolation='nearest',p=1)\n",
    "\n",
    "                aug_mask_slice = transform(mask_slice)\n",
    "                out_mask[z] = sitk.GetArrayFromImage(aug_mask_slice)\n",
    "\n",
    "            out_mask = sitk.GetImageFromArray(out_mask)\n",
    "            out_mask.SetOrigin(origin)\n",
    "            out_mask.SetSpacing(spacing)\n",
    "            out_mask.SetDirection(direction)\n",
    "        except Exception as e:\n",
    "            print(\"Error with InPlane Augmentation\",e)\n",
    "            out_mask = mask\n",
    "        \n",
    " \n",
    "        return out_mask\n",
    "        \n",
    "        "
   ]
  },
  {
   "cell_type": "code",
   "execution_count": 8,
   "metadata": {},
   "outputs": [],
   "source": [
    "# Sanity Check\n",
    "\n",
    "# org_mask = sitk.ReadImage(r\"C:\\Users\\sithi\\Research\\dataset\\curated\\QIN_Prostate\\PCAMPMRI-00001\\t2w\\mask.nii.gz\")\n",
    "\n",
    "# aug_mask= ContourInPlaneAug(5,5,5,\"systematic\")(org_mask)\n",
    "\n",
    "# org_mask_arr = sitk.GetArrayFromImage(org_mask)\n",
    "# aug_mask_arr = sitk.GetArrayFromImage(aug_mask)\n",
    "\n",
    "# print(vol_dice_score(org_mask_arr,aug_mask_arr))\n",
    "\n",
    "\n",
    "# interact(visualize, i=widgets.IntSlider(0,0,len(org_mask_arr)-1,1))\n",
    "\n",
    "# aug_mask= ContourInPlaneAug(5,5,5,\"random\")(org_mask)\n",
    "\n",
    "# org_mask_arr = sitk.GetArrayFromImage(org_mask)\n",
    "# aug_mask_arr = sitk.GetArrayFromImage(aug_mask)\n",
    "\n",
    "# print(vol_dice_score(org_mask_arr,aug_mask_arr))\n",
    " \n",
    "# interact(visualize, i=widgets.IntSlider(0,0,len(org_mask_arr)-1,1))"
   ]
  },
  {
   "cell_type": "markdown",
   "metadata": {},
   "source": [
    "### OutPlane Augmentation"
   ]
  },
  {
   "cell_type": "code",
   "execution_count": 9,
   "metadata": {},
   "outputs": [],
   "source": [
    "class ContourOutPlaneAug(object):\n",
    "    \n",
    "    def __init__(self, scale_a, scale_b,angle, delta_z):\n",
    "        \n",
    "        self.scale_a = scale_a\n",
    "        self.scale_b = scale_b\n",
    "        \n",
    "        self.delta_z = delta_z\n",
    "        self.angle = angle\n",
    "        \n",
    "    def __call__(self, mask):\n",
    "        \n",
    "        try:\n",
    "        \n",
    "            origin = mask.GetOrigin()\n",
    "            spacing = mask.GetSpacing()\n",
    "            direction = mask.GetDirection()\n",
    "\n",
    "            mask_arr = sitk.GetArrayFromImage(mask)\n",
    "\n",
    "            aug_num_slices = np.random.randint(0, self.delta_z+1) #low, high (excluded high)\n",
    "\n",
    "            z_indeces = [i for i,mask_slice in enumerate(mask_arr) if mask_slice.sum()>0]\n",
    "\n",
    "            z_min, z_max = min(z_indeces), max(z_indeces)\n",
    "\n",
    "            for i in range(aug_num_slices):\n",
    "\n",
    "                dz = z_max-z_min\n",
    "\n",
    "                if dz>0:\n",
    "\n",
    "                    ref_z = np.random.choice([z_min,z_max])\n",
    "\n",
    "                    offset = -1 if ref_z==z_min else 1\n",
    "\n",
    "                    aug_type = \"del\" if np.random.uniform()>0.5 else \"add\"\n",
    "\n",
    "                    if mask_arr[ref_z].sum()>0: #which means contour exists in that place, possible that it got deleted during iteration\n",
    "\n",
    "                        if aug_type==\"del\":\n",
    "\n",
    "                            if ref_z+offset in range(len(mask_arr)):\n",
    "\n",
    "                                if mask_arr[ref_z+offset].sum()==0:#to check if new contours were already inserted up or down\n",
    "                                    mask_arr[ref_z] = np.zeros(mask_arr[ref_z].shape)\n",
    "\n",
    "                            else:#if ref_z+offset is outside the boundary\n",
    "                                mask_arr[ref_z] = np.zeros(mask_arr[ref_z].shape)\n",
    "\n",
    "                        elif aug_type==\"add\":\n",
    "\n",
    "                            if ref_z+offset in range(len(mask_arr)):\n",
    "\n",
    "                                if mask_arr[ref_z+offset].sum()==0:\n",
    "\n",
    "                                    scales =(self.scale_a,self.scale_b, self.scale_a,self.scale_b, 1,1)\n",
    "                                    degrees = (0,0, 0,0, -self.angle, self.angle)\n",
    "\n",
    "                                    transform = tio.RandomAffine(scales=scales,degrees=degrees,image_interpolation='nearest',p=1)\n",
    "\n",
    "                                    mask_slice = sitk.GetImageFromArray(mask_arr[ref_z])\n",
    "                                    mask_arr[ref_z+offset] = sitk.GetArrayFromImage(transform(mask_slice))\n",
    "\n",
    "            mask = sitk.GetImageFromArray(mask_arr)\n",
    "            mask.SetOrigin(origin)\n",
    "            mask.SetSpacing(spacing)\n",
    "            mask.SetDirection(direction)\n",
    "        \n",
    "        except Exception as e:\n",
    "            print(\"Error with OutPlane Augmentation\",e)\n",
    "      \n",
    "        return mask\n",
    "   \n"
   ]
  },
  {
   "cell_type": "code",
   "execution_count": 10,
   "metadata": {},
   "outputs": [],
   "source": [
    "#Sanity Check\n",
    "\n",
    "# org_mask = sitk.ReadImage(r\"C:\\Users\\sithi\\Research\\dataset\\curated\\INT_Prostate\\2417361\\t2w\\mask.nii.gz\")\n",
    "\n",
    "# aug_mask= ContourOutPlaneAug(0.6,0.8,5,10)(org_mask)\n",
    "\n",
    "# org_mask_arr = sitk.GetArrayFromImage(org_mask)\n",
    "# aug_mask_arr = sitk.GetArrayFromImage(aug_mask)\n",
    "\n",
    "# print(vol_dice_score(org_mask_arr,aug_mask_arr))\n",
    "\n",
    "\n",
    "# interact(visualize, i=widgets.IntSlider(0,0,len(org_mask_arr)-1,1))"
   ]
  },
  {
   "cell_type": "markdown",
   "metadata": {},
   "source": [
    "### Feature Extraction Pipeline"
   ]
  },
  {
   "cell_type": "code",
   "execution_count": 11,
   "metadata": {},
   "outputs": [],
   "source": [
    "def extract_features(pid, aug_type = \"\", ob_type = \"\"):\n",
    "    \n",
    "    global FEATURE_ROWS\n",
    "\n",
    "    for sequence in SOI:\n",
    "\n",
    "        img = sitk.ReadImage(os.path.join(DATA_DIR, pid,sequence, \"img.nii.gz\"))\n",
    "        mask = sitk.ReadImage(os.path.join(DATA_DIR, pid,sequence, \"mask.nii.gz\"))\n",
    "\n",
    "        origin = img.GetOrigin()\n",
    "        spacing = img.GetSpacing()\n",
    "        direction = img.GetDirection()\n",
    "\n",
    "        if aug_type==\"in_plane\":\n",
    "            \n",
    "            IN_AUG_PARAMS[\"ob_type\"] = ob_type\n",
    "\n",
    "            ContourAug = ContourInPlaneAug(**IN_AUG_PARAMS)\n",
    "\n",
    "        elif aug_type==\"out_plane\":\n",
    "\n",
    "            ContourAug = ContourOutPlaneAug(**OUT_AUG_PARAMS)\n",
    "\n",
    "        elif aug_type==\"inout_plane\":\n",
    "\n",
    "            IN_AUG_PARAMS[\"ob_type\"] = ob_type\n",
    "\n",
    "            ContourAug = tio.Compose([\n",
    "                ContourInPlaneAug(**IN_AUG_PARAMS),\n",
    "                ContourOutPlaneAug(**OUT_AUG_PARAMS)\n",
    "            ])\n",
    "\n",
    "        else:\n",
    "            #normal radiomics feature extraction; without mask augmentations\n",
    "            ContourAug = None\n",
    "            \n",
    "            \n",
    "       \n",
    "        #Resampling - nearest neighbor for slice spacing, BSpline for axial spacing\n",
    "        img = tio.Resample([spacing[0],spacing[1],OUT_SPACING[2]],'nearest')(img)#nearest neighbor for outspacing\n",
    "        img = tio.Resample(OUT_SPACING,'bspline')(img)#bspline for inspacing\n",
    "        mask = tio.Resample(OUT_SPACING,'nearest')(mask)\n",
    "        \n",
    "        origin = img.GetOrigin()\n",
    "        spacing = img.GetSpacing()\n",
    "        direction = img.GetDirection()\n",
    "        \n",
    "        #Normalizing & Shifting Sequences\n",
    "        \n",
    "        img_arr = sitk.GetArrayFromImage(img)\n",
    "        mask_arr = sitk.GetArrayFromImage(mask)\n",
    "\n",
    "        mean = ADC_MEAN if sequence==\"adc\" else img_arr[mask_arr==1].mean()\n",
    "        std = ADC_STD if sequence==\"adc\" else img_arr[mask_arr==1].std()\n",
    "        \n",
    "        img_arr = (img_arr-mean)/std\n",
    "        img_arr[img_arr<-3] = -3\n",
    "        img_arr[img_arr>3] = 3\n",
    "        \n",
    "        #shifting\n",
    "        img_arr = (img_arr*SHIFT_STD)+SHIFT_MEAN#Also helps with fixing the bin_width\n",
    "        \n",
    "        img = sitk.GetImageFromArray(img_arr)\n",
    "        img.SetOrigin(origin)\n",
    "        img.SetSpacing(spacing)\n",
    "        img.SetDirection(direction)\n",
    "        \n",
    "        if ContourAug:\n",
    "            \n",
    "            for i in range(AUG_COUNT):\n",
    "\n",
    "                aug_mask = ContourAug(mask)\n",
    "\n",
    "                dice = vol_dice_score(sitk.GetArrayFromImage(aug_mask),sitk.GetArrayFromImage(mask))\n",
    "\n",
    "                extractor = radiomics.featureextractor.RadiomicsFeatureExtractor(PARAM_settingsFile,verbosity=False)\n",
    "\n",
    "                featureVector = extractor.execute(img,aug_mask)\n",
    "\n",
    "                featureVector['id'] = pid\n",
    "                featureVector['sequence'] = sequence\n",
    "                featureVector['dice'] = dice\n",
    "                featureVector['judge'] = i+1\n",
    "\n",
    "                FEATURE_ROWS.append(featureVector)\n",
    "\n",
    "        else:\n",
    "            \n",
    "            extractor = radiomics.featureextractor.RadiomicsFeatureExtractor(PARAM_settingsFile,verbosity=False)\n",
    "\n",
    "            featureVector = extractor.execute(img,mask)\n",
    "\n",
    "            featureVector['id'] = pid\n",
    "            featureVector['sequence'] = sequence\n",
    "\n",
    "            FEATURE_ROWS.append(featureVector)\n",
    "\n",
    "            \n",
    "    pbar.update()\n",
    "\n"
   ]
  },
  {
   "cell_type": "markdown",
   "metadata": {},
   "source": [
    "# 1. Internal Population"
   ]
  },
  {
   "cell_type": "code",
   "execution_count": 12,
   "metadata": {},
   "outputs": [],
   "source": [
    "#Normal Radiomics Feature Extraction\n",
    "\n",
    "DATA_DIR = r\"C:\\Users\\sithi\\Research\\dataset\\curated\\INT_Prostate\"\n",
    "OUT_DIR = r\"C:\\Users\\sithi\\Research\\INT-Projects\\stability\\radiomicsFeatures\"\n",
    "\n",
    "SOI = [\"t2w\",\"adc\",\"sub_win\",\"sub_wout\"]#will update the radiomics pipeline directly\n",
    "\n",
    "pids = os.listdir(DATA_DIR)"
   ]
  },
  {
   "cell_type": "markdown",
   "metadata": {},
   "source": [
    "### Normal Radiomics Feature Extraction"
   ]
  },
  {
   "cell_type": "code",
   "execution_count": 13,
   "metadata": {},
   "outputs": [
    {
     "name": "stderr",
     "output_type": "stream",
     "text": [
      "Extracting radiomics features: 100%|█████████████████████████████████████████████████| 100/100 [13:51<00:00, 10.29s/it]"
     ]
    }
   ],
   "source": [
    "FEATURE_ROWS = []\n",
    "\n",
    "pbar = tqdm(pids, desc=f\"Extracting radiomics features\", position=0)\n",
    "with ThreadPoolExecutor(max_workers=NUM_WORKERS) as e:e.map(extract_features, pids)\n",
    "    \n",
    "df = pd.DataFrame(FEATURE_ROWS)\n",
    "df.to_csv(os.path.join(OUT_DIR, \"internal.csv\"))"
   ]
  },
  {
   "cell_type": "markdown",
   "metadata": {},
   "source": [
    "### Augmented Feature Extraction"
   ]
  },
  {
   "cell_type": "code",
   "execution_count": null,
   "metadata": {},
   "outputs": [],
   "source": [
    "AUG_COUNT = 15"
   ]
  },
  {
   "cell_type": "code",
   "execution_count": null,
   "metadata": {},
   "outputs": [],
   "source": [
    "#sanity check\n",
    "#extract_features(pids[0],\"in_plane\",\"systematic\")"
   ]
  },
  {
   "cell_type": "code",
   "execution_count": null,
   "metadata": {},
   "outputs": [],
   "source": [
    "for aug_type in [\"in_plane\",\"out_plane\",\"inout_plane\"]:\n",
    "\n",
    "    bias_types = [\"random\",\"systematic\"] if \"in\" in aug_type else [\"\"]\n",
    "\n",
    "    for bias_type in bias_types:\n",
    "\n",
    "        FEATURE_ROWS = []\n",
    "\n",
    "        pfix = aug_type+((\"_\"+bias_type) if bias_type!=\"\" else bias_type)\n",
    "        pbar = tqdm(pids,desc=f\"Extracting Features with Augmentation - {pfix}\", position=0)\n",
    "   \n",
    "        with ThreadPoolExecutor(max_workers=NUM_WORKERS) as e:e.map(extract_features, pids, [\"\"]*len(pids), [\"\"]*len(pids))\n",
    "        #sometimes multithreading can fail so is being fed sequentially\n",
    "        # for pid in pids:\n",
    "        #    extract_features(pid, aug_type, bias_type)\n",
    "        #    pbar.update()\n",
    "        \n",
    "        \n",
    "        df = pd.DataFrame(FEATURE_ROWS)\n",
    "        df.to_csv(os.path.join(OUT_DIR, f\"{pfix}_internal.csv\"))\n",
    "\n"
   ]
  },
  {
   "cell_type": "markdown",
   "metadata": {},
   "source": [
    "# 2. External Population"
   ]
  },
  {
   "cell_type": "code",
   "execution_count": 14,
   "metadata": {},
   "outputs": [],
   "source": [
    "DATA_DIR = r\"C:\\Users\\sithi\\Research\\dataset\\curated\\QIN_Prostate\"\n",
    "OUT_DIR = r\"C:\\Users\\sithi\\Research\\INT-Projects\\stability\\radiomicsFeatures\"\n",
    "\n",
    "SOI = [\"t2w\",\"adc\",\"sub\"]#will update the radiomics pipeline function\n",
    "\n",
    "pids = os.listdir(DATA_DIR)"
   ]
  },
  {
   "cell_type": "markdown",
   "metadata": {},
   "source": [
    "### Normal Radiomics Feature Extraction"
   ]
  },
  {
   "cell_type": "code",
   "execution_count": 15,
   "metadata": {},
   "outputs": [
    {
     "name": "stderr",
     "output_type": "stream",
     "text": [
      "Extracting radiomics features: 100%|███████████████████████████████████████████████████| 15/15 [01:16<00:00,  4.97s/it]"
     ]
    }
   ],
   "source": [
    "FEATURE_ROWS = []\n",
    "\n",
    "pbar = tqdm(pids, desc=f\"Extracting radiomics features\", position=0)\n",
    "with ThreadPoolExecutor(max_workers=NUM_WORKERS) as e:e.map(extract_features, pids)\n",
    "    \n",
    "df = pd.DataFrame(FEATURE_ROWS)\n",
    "df.to_csv(os.path.join(OUT_DIR, \"external.csv\"))"
   ]
  },
  {
   "cell_type": "markdown",
   "metadata": {},
   "source": [
    "### Augmented Feature Extraction"
   ]
  },
  {
   "cell_type": "code",
   "execution_count": null,
   "metadata": {},
   "outputs": [],
   "source": [
    "AUG_COUNT = 15"
   ]
  },
  {
   "cell_type": "code",
   "execution_count": null,
   "metadata": {},
   "outputs": [],
   "source": [
    "# sanity check \n",
    "# extract_features(pids[-5],\"in_plane\",\"systematic\")"
   ]
  },
  {
   "cell_type": "code",
   "execution_count": null,
   "metadata": {},
   "outputs": [],
   "source": [
    "for aug_type in [\"in_plane\",\"out_plane\",\"inout_plane\"]:\n",
    "\n",
    "    bias_types = [\"random\",\"systematic\"] if \"in\" in aug_type else [\"\"]\n",
    "\n",
    "    for bias_type in bias_types:\n",
    "\n",
    "        FEATURE_ROWS = []\n",
    "\n",
    "        pfix = aug_type+((\"_\"+bias_type) if bias_type!=\"\" else bias_type)\n",
    "        pbar = tqdm(pids,desc=f\"Extracting Features with Augmentation - {pfix}\", position=0)\n",
    "    \n",
    "        with ThreadPoolExecutor(max_workers=NUM_WORKERS) as e:e.map(extract_features, pids, [aug_type]*len(pids), [bias_type]*len(pids))\n",
    "        # for pid in pids:\n",
    "        #    extract_features(pid, aug_type, bias_type)\n",
    "        #    pbar.update()\n",
    "        \n",
    "        df = pd.DataFrame(FEATURE_ROWS)\n",
    "        df.to_csv(os.path.join(OUT_DIR, f\"{pfix}_external.csv\"))\n"
   ]
  }
 ],
 "metadata": {
  "kernelspec": {
   "display_name": "Python 3",
   "language": "python",
   "name": "python3"
  },
  "language_info": {
   "codemirror_mode": {
    "name": "ipython",
    "version": 3
   },
   "file_extension": ".py",
   "mimetype": "text/x-python",
   "name": "python",
   "nbconvert_exporter": "python",
   "pygments_lexer": "ipython3",
   "version": "3.7.6"
  }
 },
 "nbformat": 4,
 "nbformat_minor": 4
}
